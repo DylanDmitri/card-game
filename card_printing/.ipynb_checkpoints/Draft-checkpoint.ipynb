{
 "cells": [
  {
   "cell_type": "code",
   "execution_count": 121,
   "metadata": {},
   "outputs": [],
   "source": [
    "from reportlab.pdfgen import canvas\n",
    "from reportlab.lib.units import inch, cm\n",
    "\n",
    "import numpy as np"
   ]
  },
  {
   "cell_type": "code",
   "execution_count": 23,
   "metadata": {},
   "outputs": [
    {
     "data": {
      "text/plain": [
       "28.346456692913385"
      ]
     },
     "execution_count": 23,
     "metadata": {},
     "output_type": "execute_result"
    }
   ],
   "source": [
    "cm"
   ]
  },
  {
   "cell_type": "code",
   "execution_count": 142,
   "metadata": {},
   "outputs": [
    {
     "name": "stdout",
     "output_type": "stream",
     "text": [
      "41 unique cards\n"
     ]
    }
   ],
   "source": [
    "# text = \"\"\"\n",
    "# Simple Strike\n",
    "# \tmelee attack,\n",
    "# \t\t+1 vs defense, lethal\n",
    "# \tdistract 2\n",
    "# \trun 3\n",
    "# \t\"\"\"\n",
    "\n",
    "keywords = {\n",
    "#     'stubborness': '' \n",
    "    '\\t': '    ',\n",
    "    'stubborness': '[#]',\n",
    "    'perception': '(O)',\n",
    "    'defense': 'AC',\n",
    "    'on block,': 'block ='\n",
    "}\n",
    "\n",
    "def process(line):\n",
    "    line = line[1:]\n",
    "    for word, symbol in keywords.items():\n",
    "        line = line.replace(word, symbol)\n",
    "    return line\n",
    "\n",
    "\n",
    "cards = {}\n",
    "class Card:\n",
    "    def __init__(self, lines):\n",
    "#         lines = raw.strip().split('\\n')\n",
    "        self.title = lines[0]\n",
    "        cards[self.title] = self\n",
    "        self.lines = [process(line) for line in lines[1:]]\n",
    "        \n",
    "    def render(self, c, xoffset, yoffset):\n",
    "        offset = 0\n",
    "        def write(text='', fontsize=14):\n",
    "            nonlocal yoffset\n",
    "            c.setFont('Helvetica', fontsize)            \n",
    "            if text.startswith(keywords['\\t']):\n",
    "                yoffset += 6\n",
    "\n",
    "            c.drawString(xoffset, yoffset+offset, text)\n",
    "            yoffset -= .8*cm\n",
    "        \n",
    "        write(self.title, 20)\n",
    "        yoffset -= .2*cm\n",
    "        xoffset += .2*cm\n",
    "        for line in self.lines:\n",
    "            write(line)\n",
    "\n",
    "# c = canvas.Canvas('test.pdf')\n",
    "# Card(text).render(50, 200)\n",
    "# c.showPage()\n",
    "# c.save()\n",
    "\n",
    "# read in all cards\n",
    "\n",
    "def parse(fpath, cls):\n",
    "    buffer = []\n",
    "    for line in open(fpath):\n",
    "        if line.startswith('--'):\n",
    "            continue\n",
    "            \n",
    "        buffer.append(line[:-1])\n",
    "        if line.strip() == '' and buffer:\n",
    "            cls(buffer[:-1])\n",
    "            buffer = []\n",
    "\n",
    "parse('../card_data', Card)\n",
    "print(len(cards), 'unique cards')"
   ]
  },
  {
   "cell_type": "code",
   "execution_count": 143,
   "metadata": {},
   "outputs": [
    {
     "name": "stdout",
     "output_type": "stream",
     "text": [
      "13 unique packs\n"
     ]
    }
   ],
   "source": [
    "packs = {}\n",
    "class Pack:\n",
    "    def __init__(self, lines):\n",
    "        self.title = lines[0]\n",
    "        packs[self.title] = self\n",
    "        \n",
    "        self.cards = []\n",
    "        \n",
    "        for line in lines[1:]:\n",
    "            words = line.strip().split()\n",
    "            count = int(words[0][0])\n",
    "            name = ' '.join(words[1:])\n",
    "            \n",
    "            if name not in cards:\n",
    "                print(f'unknown card <{name}>')\n",
    "            else:\n",
    "                self.cards += count*[cards[name]]\n",
    "                \n",
    "        self.lines = lines[1:]\n",
    "    \n",
    "parse('../pack_data', Pack)\n",
    "print(len(packs), 'unique packs')"
   ]
  },
  {
   "cell_type": "code",
   "execution_count": 186,
   "metadata": {},
   "outputs": [],
   "source": [
    "left_margin = .25*inch\n",
    "\n",
    "width = 8*inch\n",
    "height = 11*inch\n",
    "\n",
    "rows = 4\n",
    "cols = 3\n",
    "\n",
    "class Page:    \n",
    "    def __init__(self, name=None):\n",
    "        self.c = canvas.Canvas(name)\n",
    "        self.c.setPageSize((width, height))\n",
    "        \n",
    "        self.row = 0\n",
    "        self.col = 0\n",
    "\n",
    "    def grid(self):\n",
    "        for col in range(cols):\n",
    "            self.col = col+1            \n",
    "            self.c.line(self.xoffset, 0, self.xoffset, height)\n",
    "            \n",
    "        for row in range(rows):\n",
    "            self.row = row+1\n",
    "            y = self.yoffset + 1*cm\n",
    "            self.c.line(0, y, width, y)\n",
    "\n",
    "    def proceed(self):\n",
    "        self.col += 1\n",
    "        if self.col == cols:\n",
    "            self.col = 0\n",
    "            self.row += 1\n",
    "            if self.row == rows:\n",
    "                self.c.showPage()\n",
    "                self.row = 0\n",
    "                self.col = 0\n",
    "    \n",
    "    @property\n",
    "    def xoffset(self):\n",
    "        return width * (self.col/cols)\n",
    "    \n",
    "    @property\n",
    "    def yoffset(self):\n",
    "        return height*(1- self.row/rows) - 30\n",
    "    \n",
    "    def render(self, card):\n",
    "        card.render(self.c, self.xoffset+left_margin, self.yoffset)\n",
    "        self.proceed()\n",
    "\n",
    "        \n",
    "page = Page('out.pdf')\n",
    "\n",
    "for card in packs['Shortsword'].cards:\n",
    "    page.render(card)\n",
    "\n",
    "for card in packs['Tower Shield'].cards:\n",
    "    page.render(card)\n",
    "    \n",
    "page.grid()\n",
    "page.c.showPage()\n",
    "page.c.save()"
   ]
  },
  {
   "cell_type": "code",
   "execution_count": 149,
   "metadata": {},
   "outputs": [],
   "source": [
    "\n",
    " \n"
   ]
  }
 ],
 "metadata": {
  "kernelspec": {
   "display_name": "Python 3",
   "language": "python",
   "name": "python3"
  },
  "language_info": {
   "codemirror_mode": {
    "name": "ipython",
    "version": 3
   },
   "file_extension": ".py",
   "mimetype": "text/x-python",
   "name": "python",
   "nbconvert_exporter": "python",
   "pygments_lexer": "ipython3",
   "version": "3.6.4"
  }
 },
 "nbformat": 4,
 "nbformat_minor": 2
}
