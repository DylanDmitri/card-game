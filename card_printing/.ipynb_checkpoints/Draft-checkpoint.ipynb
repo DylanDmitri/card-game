{
 "cells": [
  {
   "cell_type": "code",
   "execution_count": 11,
   "metadata": {},
   "outputs": [],
   "source": [
    "from reportlab.pdfgen import canvas\n",
    "from reportlab.lib.units import inch, cm"
   ]
  },
  {
   "cell_type": "code",
   "execution_count": 12,
   "metadata": {},
   "outputs": [
    {
     "data": {
      "text/plain": [
       "28.346456692913385"
      ]
     },
     "execution_count": 12,
     "metadata": {},
     "output_type": "execute_result"
    }
   ],
   "source": [
    "cm"
   ]
  },
  {
   "cell_type": "code",
   "execution_count": 24,
   "metadata": {},
   "outputs": [
    {
     "name": "stdout",
     "output_type": "stream",
     "text": [
      "Simple Strike\n",
      "['melee attack', '❙ +1 vs AC, lethal', 'distract 2', 'run 3']\n"
     ]
    }
   ],
   "source": [
    "text = \"\"\"\n",
    "Simple Strike\n",
    "\tmelee attack\n",
    "\t\t+1 vs defense, lethal\n",
    "\tdistract 2\n",
    "\trun 3\n",
    "\t\"\"\"\n",
    "\n",
    "keywords = {\n",
    "#     'stubborness': '' \n",
    "    '\\t': '❙ ',\n",
    "    'stubborness': '▣',\n",
    "    'perception': '◎',\n",
    "    'defense': 'AC'\n",
    "}\n",
    "\n",
    "def process(line):\n",
    "    line = line[1:]\n",
    "    for word, symbol in keywords.items():\n",
    "        line = line.replace(word, symbol)\n",
    "    return line\n",
    "\n",
    "\n",
    "class Card:\n",
    "    def __init__(self, raw):\n",
    "        lines = raw.strip().split('\\n')\n",
    "        self.title = lines[0]\n",
    "        self.lines = [process(line) for line in lines[1:]]\n",
    "        \n",
    "        print(self.title)\n",
    "        print(self.lines)\n",
    "        \n",
    "    def render(self, xoffset, yoffset):\n",
    "        offset = 0\n",
    "        def write(text, fontsize=14):\n",
    "            nonlocal offset\n",
    "            c.setFont('Helvetica', fontsize)\n",
    "            c.drawString(xoffset, yoffset+offset, text)\n",
    "            offset -= 1*cm\n",
    "        \n",
    "        write(self.title, 20)\n",
    "        for line in self.lines:\n",
    "            write(line)\n",
    "\n",
    "c = canvas.Canvas('out.pdf')\n",
    "\n",
    "Card(text).render(10, 200)\n",
    "c.showPage()\n",
    "c.save()"
   ]
  },
  {
   "cell_type": "code",
   "execution_count": 20,
   "metadata": {
    "collapsed": true
   },
   "outputs": [],
   "source": [
    "\n",
    "c = canvas.Canvas('out.pdf')\n",
    "c.drawImage('ex.png', 0, 0, 10*cm, 10*cm)\n",
    "c.showPage()\n",
    "c.save()\n",
    "\n",
    "c.drawString?"
   ]
  }
 ],
 "metadata": {
  "kernelspec": {
   "display_name": "Python 3",
   "language": "python",
   "name": "python3"
  },
  "language_info": {
   "codemirror_mode": {
    "name": "ipython",
    "version": 3
   },
   "file_extension": ".py",
   "mimetype": "text/x-python",
   "name": "python",
   "nbconvert_exporter": "python",
   "pygments_lexer": "ipython3",
   "version": "3.6.4"
  }
 },
 "nbformat": 4,
 "nbformat_minor": 2
}
