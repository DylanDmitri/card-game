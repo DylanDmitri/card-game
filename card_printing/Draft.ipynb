{
 "cells": [
  {
   "cell_type": "code",
   "execution_count": 9,
   "metadata": {},
   "outputs": [],
   "source": [
    "from reportlab.pdfgen import canvas\n",
    "from reportlab.lib.units import inch, cm"
   ]
  },
  {
   "cell_type": "code",
   "execution_count": 23,
   "metadata": {},
   "outputs": [
    {
     "data": {
      "text/plain": [
       "28.346456692913385"
      ]
     },
     "execution_count": 23,
     "metadata": {},
     "output_type": "execute_result"
    }
   ],
   "source": [
    "cm"
   ]
  },
  {
   "cell_type": "code",
   "execution_count": 44,
   "metadata": {},
   "outputs": [],
   "source": [
    "text = \"\"\"\n",
    "Simple Strike\n",
    "\tmelee attack,\n",
    "\t\t+1 vs defense, lethal\n",
    "\tdistract 2\n",
    "\trun 3\n",
    "\t\"\"\"\n",
    "\n",
    "keywords = {\n",
    "#     'stubborness': '' \n",
    "    '\\t': '    ',\n",
    "    'stubborness': '[#]',\n",
    "    'perception': '(O)',\n",
    "    'defense': 'AC'\n",
    "}\n",
    "\n",
    "def process(line):\n",
    "    line = line[1:]\n",
    "    for word, symbol in keywords.items():\n",
    "        line = line.replace(word, symbol)\n",
    "    return line\n",
    "\n",
    "\n",
    "class Card:\n",
    "    def __init__(self, raw):\n",
    "        lines = raw.strip().split('\\n')\n",
    "        self.title = lines[0]\n",
    "        self.lines = [process(line) for line in lines[1:]]\n",
    "        \n",
    "        print(self.title)\n",
    "        print(self.lines)\n",
    "        \n",
    "    def render(self, c, xoffset, yoffset):\n",
    "        offset = 0\n",
    "        def write(text='', fontsize=14):\n",
    "            nonlocal yoffset\n",
    "            c.setFont('Helvetica', fontsize)            \n",
    "            if text.startswith(keywords['\\t']):\n",
    "                yoffset += 6\n",
    "\n",
    "            c.drawString(xoffset, yoffset+offset, text)\n",
    "            yoffset -= .8*cm\n",
    "        \n",
    "        write(self.title, 20)\n",
    "        yoffset -= .2*cm\n",
    "        xoffset += .2*cm\n",
    "        for line in self.lines:\n",
    "            write(line)\n",
    "\n",
    "# c = canvas.Canvas('test.pdf')\n",
    "# Card(text).render(50, 200)\n",
    "# c.showPage()\n",
    "# c.save()"
   ]
  },
  {
   "cell_type": "code",
   "execution_count": 58,
   "metadata": {},
   "outputs": [
    {
     "name": "stdout",
     "output_type": "stream",
     "text": [
      "Simple Strike\n",
      "['melee attack,', '    +1 vs AC, lethal', 'distract 2', 'run 3']\n"
     ]
    }
   ],
   "source": [
    "\n",
    "left_margin = .25*inch\n",
    "width = 8*inch\n",
    "height = 11*inch\n",
    "\n",
    "rows = 4\n",
    "cols = 4\n",
    "\n",
    "class Page:    \n",
    "    def __init__(self, name=None):\n",
    "        self.c = canvas.Canvas(name)\n",
    "        c.line(0, 0, width, height)\n",
    "        \n",
    "        self.row = 0\n",
    "        self.col = 0\n",
    "\n",
    "    def proceed(self):\n",
    "        self.col += 1\n",
    "        if self.col == cols:\n",
    "            self.col = 0\n",
    "            self.row += 1\n",
    "            if self.row == rows:\n",
    "                raise StopIterationError()\n",
    "    \n",
    "    def render(self, card):\n",
    "        card.render(self.c, \n",
    "                    xoffset = width * (self.col/cols) + left_margin,\n",
    "                    yoffset = height * ((rows-self.row)/rows))\n",
    "        self.proceed()\n",
    "        \n",
    "\n",
    "# c = canvas.Canvas('out.pdf')\n",
    "\n",
    "\n",
    "page = Page('out.pdf')\n",
    "\n",
    "card = Card(text)\n",
    "\n",
    "for _ in range(6):\n",
    "    page.render(card)\n",
    "\n",
    "page.c.showPage()\n",
    "page.c.save()\n",
    "        "
   ]
  }
 ],
 "metadata": {
  "kernelspec": {
   "display_name": "Python 3",
   "language": "python",
   "name": "python3"
  },
  "language_info": {
   "codemirror_mode": {
    "name": "ipython",
    "version": 3
   },
   "file_extension": ".py",
   "mimetype": "text/x-python",
   "name": "python",
   "nbconvert_exporter": "python",
   "pygments_lexer": "ipython3",
   "version": "3.6.4"
  }
 },
 "nbformat": 4,
 "nbformat_minor": 2
}
